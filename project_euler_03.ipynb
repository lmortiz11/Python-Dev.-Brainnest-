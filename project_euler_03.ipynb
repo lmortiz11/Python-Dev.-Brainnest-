{
 "cells": [
  {
   "cell_type": "markdown",
   "metadata": {},
   "source": [
    "1. \n",
    "\n",
    "In the United Kingdom the currency is made up of pound (£) and pence (p). There are eight coins in general circulation:\n",
    "\n",
    "    1p, 2p, 5p, 10p, 20p, 50p, £1 (100p), and £2 (200p).\n",
    "\n",
    "It is possible to make £2 in the following way:\n",
    "\n",
    "    1×£1 + 1×50p + 2×20p + 1×5p + 1×2p + 3×1p\n",
    "\n",
    "How many different ways can £2 be made using any number of coins?\n"
   ]
  },
  {
   "cell_type": "code",
   "execution_count": 1,
   "metadata": {},
   "outputs": [
    {
     "data": {
      "text/plain": [
       "73682"
      ]
     },
     "execution_count": 1,
     "metadata": {},
     "output_type": "execute_result"
    }
   ],
   "source": [
    "def num_ways(amount):\n",
    "    coins=[1,2,5,10,20,50,100,200]\n",
    "    num_ways=[0]*(amount+1)\n",
    "    num_ways[0]=1\n",
    "    for i in coins:\n",
    "        for j in range(i, amount+1):\n",
    "            num_ways[j] +=num_ways[j-i]\n",
    "    return num_ways[amount]\n",
    "            \n",
    "        \n",
    "            \n",
    "num_ways(200)            \n",
    "\n",
    "\n",
    "    "
   ]
  },
  {
   "cell_type": "markdown",
   "metadata": {},
   "source": [
    "2. \n",
    "\n",
    "We shall say that an n-digit number is pandigital if it makes use of all the digits 1 to n exactly once; for example, the 5-digit number, 15234, is 1 through 5 pandigital.\n",
    "\n",
    "The product 7254 is unusual, as the identity, 39 × 186 = 7254, containing multiplicand, multiplier, and product is 1 through 9 pandigital.\n",
    "\n",
    "Find the sum of all products whose multiplicand/multiplier/product identity can be written as a 1 through 9 pandigital.\n",
    "HINT: Some products can be obtained in more than one way so be sure to only include it once in your sum.\n"
   ]
  },
  {
   "cell_type": "code",
   "execution_count": 2,
   "metadata": {},
   "outputs": [
    {
     "name": "stdout",
     "output_type": "stream",
     "text": [
      "45228\n"
     ]
    }
   ],
   "source": [
    "product = set()\n",
    "digits=set('123456789')\n",
    "\n",
    "for i in range (1,100):\n",
    "    for j in range(1,9999):\n",
    "        s=str(i)+str(j)+str(i*j)\n",
    "        if len(s)==9 and set(s)==digits:\n",
    "            product.add(i*j)\n",
    "        elif len(s)>9:\n",
    "            break\n",
    "\n",
    "\n",
    "print (sum(product) )         "
   ]
  },
  {
   "cell_type": "markdown",
   "metadata": {},
   "source": [
    "3. \n",
    "\n",
    "The fraction 49/98 is a curious fraction, as an inexperienced mathematician in attempting to simplify it may incorrectly believe that 49/98 = 4/8, which is correct, is obtained by cancelling the 9s.\n",
    "\n",
    "We shall consider fractions like, 30/50 = 3/5, to be trivial examples.\n",
    "\n",
    "There are exactly four non-trivial examples of this type of fraction, less than one in value, and containing two digits in the numerator and denominator.\n",
    "\n",
    "If the product of these four fractions is given in its lowest common terms, find the value of the denominator.\n"
   ]
  },
  {
   "cell_type": "code",
   "execution_count": 3,
   "metadata": {},
   "outputs": [
    {
     "name": "stdout",
     "output_type": "stream",
     "text": [
      "100\n"
     ]
    }
   ],
   "source": [
    "from fractions import Fraction\n",
    "product =1\n",
    "for num in range (10,100):\n",
    "    for  den in range (num+1,100):\n",
    "        common=list(set(str(num)) & set(str(den)))\n",
    "        if len(common)!=0 and common[0]!='0':\n",
    "            new_num=str(num).translate( { ord(i): None for i in common} )\n",
    "            new_den=str(den).translate( { ord(i): None for i in common} )\n",
    "            \n",
    "            if new_num!='' and new_den!='' and int(new_num)!=0 and int(new_den)!=0:\n",
    "                if Fraction(int(new_num),int(new_den)) == Fraction(num,den):\n",
    "\n",
    "                    product*=Fraction(num,den)\n",
    "                          \n",
    "print(product.denominator)          "
   ]
  },
  {
   "cell_type": "markdown",
   "metadata": {},
   "source": [
    "4. \n",
    "\n",
    "145 is a curious number, as 1! + 4! + 5! = 1 + 24 + 120 = 145.\n",
    "\n",
    "Find the sum of all numbers which are equal to the sum of the factorial of their digits.\n",
    "\n",
    "Note: As 1! = 1 and 2! = 2 are not sums they are not included.\n"
   ]
  },
  {
   "cell_type": "code",
   "execution_count": 4,
   "metadata": {},
   "outputs": [
    {
     "name": "stdout",
     "output_type": "stream",
     "text": [
      "40730\n"
     ]
    }
   ],
   "source": [
    "import math\n",
    "total_sum=0\n",
    "for i in range(3,70000):\n",
    "    output = [int(x) for x in str(i)]\n",
    "    sums=0\n",
    "    \n",
    "    for j in range (len(output)):\n",
    "        sums+=math.factorial(output[j])\n",
    "        \n",
    "    \n",
    "    if sums==i:\n",
    "        total_sum+=i\n",
    "        \n",
    "        \n",
    "print (total_sum)"
   ]
  },
  {
   "cell_type": "markdown",
   "metadata": {},
   "source": [
    "5. \n",
    "\n",
    "The number, 197, is called a circular prime because all rotations of the digits: 197, 971, and 719, are themselves prime.\n",
    "\n",
    "There are thirteen such primes below 100: 2, 3, 5, 7, 11, 13, 17, 31, 37, 71, 73, 79, and 97.\n",
    "\n",
    "How many circular primes are there below one million?\n"
   ]
  },
  {
   "cell_type": "code",
   "execution_count": 6,
   "metadata": {},
   "outputs": [
    {
     "name": "stdout",
     "output_type": "stream",
     "text": [
      "55\n"
     ]
    }
   ],
   "source": [
    "\n",
    "def isPrime(n):\n",
    "    if(n==1 or n==0):\n",
    "        return False\n",
    "    \n",
    "    for i in range(2,n):\n",
    "        if(n%i==0):\n",
    "            return False\n",
    "    return True\n",
    "        \n",
    "def rotation(number):\n",
    "    str_number = str(number)\n",
    "    return {\n",
    "        int( str_number[i:] + str_number[:i] )\n",
    "        for i in range(len(str_number))\n",
    "    }\n",
    "\n",
    "        \n",
    "prime_num=[]\n",
    "for i in range(1000000):\n",
    "    if i in prime_num:\n",
    "        continue\n",
    "    elif (isPrime(i)):\n",
    "        list_num=list(rotation(i))\n",
    "            \n",
    "        if (all(isPrime(j) for j in list_num)):\n",
    "            prime_num.extend(list_num)\n",
    "prime_num.sort()        \n",
    "print (len(prime_num))           "
   ]
  }
 ],
 "metadata": {
  "kernelspec": {
   "display_name": "Python 3",
   "language": "python",
   "name": "python3"
  },
  "language_info": {
   "codemirror_mode": {
    "name": "ipython",
    "version": 3
   },
   "file_extension": ".py",
   "mimetype": "text/x-python",
   "name": "python",
   "nbconvert_exporter": "python",
   "pygments_lexer": "ipython3",
   "version": "3.6.4"
  }
 },
 "nbformat": 4,
 "nbformat_minor": 2
}
